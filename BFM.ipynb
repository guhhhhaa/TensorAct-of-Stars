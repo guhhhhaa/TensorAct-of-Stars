{
 "cells": [
  {
   "cell_type": "code",
   "execution_count": 2,
   "id": "8f0c6ae0-70b0-49ec-a7ee-0ffba38836ae",
   "metadata": {},
   "outputs": [
    {
     "name": "stdout",
     "output_type": "stream",
     "text": [
      "Arbitrage Opportunity: \n",
      "\n",
      "RUB --> INR --> PLN --> RUB\n",
      "Arbitrage Opportunity: \n",
      "\n",
      "USD --> MXN --> USD --> RUB --> INR --> EUR --> PLN\n",
      "Arbitrage Opportunity: \n",
      "\n",
      "USD --> MXN --> USD --> PLN\n"
     ]
    }
   ],
   "source": [
    "from typing import Tuple, List\n",
    "from math import log\n",
    "\n",
    "rates = [\n",
    "    [1, 0.23, 0.25, 16.43, 18.21, 4.94],\n",
    "    [4.34, 1, 1.11, 71.40, 79.09, 21.44],\n",
    "    [3.93, 0.90, 1, 64.52, 71.48, 19.37],\n",
    "    [0.061, 0.014, 0.015, 1, 1.11, 0.30],\n",
    "    [0.055, 0.013, 0.014, 0.90, 1, 0.27],\n",
    "    [0.20, 0.047, 0.052, 3.33, 3.69, 1],\n",
    "]\n",
    "\n",
    "currencies = ('PLN', 'EUR', 'USD', 'RUB', 'INR', 'MXN')\n",
    "\n",
    "\n",
    "def negate_logarithm_convertor(graph: Tuple[Tuple[float]]) -> List[List[float]]:\n",
    "    ''' log of each rate in graph and negate it'''\n",
    "    result = [[-log(edge) for edge in row] for row in graph]\n",
    "    return result\n",
    "\n",
    "\n",
    "def arbitrage(currency_tuple: tuple, rates_matrix: Tuple[Tuple[float, ...]]):\n",
    "    ''' Calculates arbitrage situations and prints out the details of this calculations'''\n",
    "\n",
    "    trans_graph = negate_logarithm_convertor(rates_matrix)\n",
    "\n",
    "    # Pick any source vertex -- we can run Bellman-Ford from any vertex and get the right result\n",
    "\n",
    "    source = 0\n",
    "    n = len(trans_graph)\n",
    "    min_dist = [float('inf')] * n\n",
    "\n",
    "    pre = [-1] * n\n",
    "    \n",
    "    min_dist[source] = source\n",
    "\n",
    "    # 'Relax edges |V-1| times'\n",
    "    for _ in range(n-1):\n",
    "        for source_curr in range(n):\n",
    "            for dest_curr in range(n):\n",
    "                if min_dist[dest_curr] > min_dist[source_curr] + trans_graph[source_curr][dest_curr]:\n",
    "                    min_dist[dest_curr] = min_dist[source_curr] + trans_graph[source_curr][dest_curr]\n",
    "                    pre[dest_curr] = source_curr\n",
    "\n",
    "    # if we can still relax edges, then we have a negative cycle\n",
    "    for source_curr in range(n):\n",
    "        for dest_curr in range(n):\n",
    "            if min_dist[dest_curr] > min_dist[source_curr] + trans_graph[source_curr][dest_curr]:\n",
    "                # negative cycle exists, and use the predecessor chain to print the cycle\n",
    "                print_cycle = [dest_curr, source_curr]\n",
    "                # Start from the source and go backwards until you see the source vertex again or any vertex that already exists in print_cycle array\n",
    "                while pre[source_curr] not in  print_cycle:\n",
    "                    print_cycle.append(pre[source_curr])\n",
    "                    source_curr = pre[source_curr]\n",
    "                print_cycle.append(pre[source_curr])\n",
    "                print(\"Arbitrage Opportunity: \\n\")\n",
    "                print(\" --> \".join([currencies[p] for p in print_cycle[::-1]]))\n",
    "\n",
    "\n",
    "if __name__ == \"__main__\":\n",
    "    arbitrage(currencies, rates)\n",
    "\n",
    "# Time Complexity: O(N^3)\n",
    "# Space Complexity: O(N^2)"
   ]
  }
 ],
 "metadata": {
  "kernelspec": {
   "display_name": "Python 3",
   "language": "python",
   "name": "python3"
  },
  "language_info": {
   "codemirror_mode": {
    "name": "ipython",
    "version": 3
   },
   "file_extension": ".py",
   "mimetype": "text/x-python",
   "name": "python",
   "nbconvert_exporter": "python",
   "pygments_lexer": "ipython3",
   "version": "3.7.10"
  }
 },
 "nbformat": 4,
 "nbformat_minor": 5
}
